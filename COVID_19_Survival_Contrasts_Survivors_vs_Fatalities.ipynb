{
  "cells": [
    {
      "cell_type": "markdown",
      "source": [
        "###Analyzing Survival Disparities: Contrasts Between COVID-19 Survivors and Fatalities"
      ],
      "metadata": {
        "id": "lfe4UqpIlsHm"
      }
    },
    {
      "cell_type": "markdown",
      "source": [],
      "metadata": {
        "id": "g80LcJKNlN7C"
      }
    },
    {
      "cell_type": "markdown",
      "source": [
        "#Hypothetical Use Case 2\n",
        "\n",
        "What are the differences between those who survived and died during the pandemic?\n",
        "\n",
        "**Exercise Goal:** Profile, preprocess, and clean the raw job posting dataset to make it suitable for analysis\n",
        "\n"
      ],
      "metadata": {
        "id": "HTCb5yv0mHsi"
      }
    },
    {
      "cell_type": "code",
      "execution_count": null,
      "metadata": {
        "id": "WFBnSGSv5702"
      },
      "outputs": [],
      "source": [
        "#importing the relevant libraries\n",
        "import pandas as pd\n",
        "import re\n",
        "import numpy as np\n",
        "import matplotlib.pyplot as plt"
      ]
    },
    {
      "cell_type": "code",
      "execution_count": null,
      "metadata": {
        "id": "RK6xZTzd60sU",
        "colab": {
          "base_uri": "https://localhost:8080/"
        },
        "outputId": "df0b6aa6-294f-4a91-c7d0-3401aba94163"
      },
      "outputs": [
        {
          "output_type": "stream",
          "name": "stdout",
          "text": [
            "Mounted at /content/drive\n"
          ]
        }
      ],
      "source": [
        "# mount drive to access the dataset saved from Google drive (this will help each member to work with the same database)\n",
        "from google.colab import drive\n",
        "\n",
        "drive.mount(\"/content/drive\")"
      ]
    },
    {
      "cell_type": "markdown",
      "metadata": {
        "id": "pdiAmFbfdG_Z"
      },
      "source": [
        "## Exploring the dataset"
      ]
    },
    {
      "cell_type": "code",
      "execution_count": null,
      "metadata": {
        "colab": {
          "base_uri": "https://localhost:8080/"
        },
        "id": "W7nSBgXl62_q",
        "outputId": "fe5cb326-140c-417c-bf7d-2da733970d97"
      },
      "outputs": [
        {
          "output_type": "stream",
          "name": "stderr",
          "text": [
            "<ipython-input-3-a5e3902785a8>:1: DtypeWarning: Columns (15,16) have mixed types. Specify dtype option on import or set low_memory=False.\n",
            "  covid_df0 = pd.read_csv(\"/content/drive/MyDrive/DATADROP 2021_V0.csv\")\n"
          ]
        }
      ],
      "source": [
        "covid_df0 = pd.read_csv(\"/content/drive/MyDrive/DATADROP 2021_V0.csv\")\n",
        "covid_df = covid_df0.copy()"
      ]
    },
    {
      "cell_type": "code",
      "execution_count": null,
      "metadata": {
        "colab": {
          "base_uri": "https://localhost:8080/",
          "height": 429
        },
        "id": "K3K4aZMb6_P6",
        "outputId": "f5c81069-3f76-4433-aca8-c8c7b10b4c05"
      },
      "outputs": [
        {
          "output_type": "execute_result",
          "data": {
            "text/plain": [
              "  CaseCode   Age  AgeGroup     Sex DateSpecimen DateResultRelease DateRepConf  \\\n",
              "0  C404174  38.0  35 to 39  FEMALE          NaN        01/30/2020  01/30/2020   \n",
              "1  C462688  44.0  40 to 44    MALE          NaN        01/30/2020  02/03/2020   \n",
              "2  C387710  60.0  60 to 64  FEMALE   01/23/2020        01/30/2020  02/05/2020   \n",
              "3  C498051  63.0  60 to 64    MALE   03/05/2020               NaN  03/06/2020   \n",
              "4  C377460  49.0  45 to 49    MALE          NaN               NaN  03/06/2020   \n",
              "\n",
              "     DateDied DateRecover RemovalType  ...          ProvRes  \\\n",
              "0         NaN         NaN   RECOVERED  ...  NEGROS ORIENTAL   \n",
              "1  02/01/2020         NaN        DIED  ...  NEGROS ORIENTAL   \n",
              "2         NaN  01/31/2020   RECOVERED  ...            BOHOL   \n",
              "3  03/11/2020         NaN        DIED  ...            RIZAL   \n",
              "4         NaN         NaN   RECOVERED  ...         BATANGAS   \n",
              "\n",
              "                 CityMunRes CityMuniPSGC BarangayRes BarangayPSGC  \\\n",
              "0  DUMAGUETE CITY (CAPITAL)  PH074610000         NaN          NaN   \n",
              "1  DUMAGUETE CITY (CAPITAL)  PH074610000         NaN          NaN   \n",
              "2                   PANGLAO  PH071233000         NaN          NaN   \n",
              "3                    CAINTA  PH045805000         NaN          NaN   \n",
              "4               SANTO TOMAS  PH041028000         NaN          NaN   \n",
              "\n",
              "  HealthStatus Quarantined   DateOnset Pregnanttab  \\\n",
              "0    RECOVERED          NO  01/21/2020          NO   \n",
              "1         DIED          NO  01/18/2020         NaN   \n",
              "2    RECOVERED          NO  01/21/2020          NO   \n",
              "3         DIED          NO         NaN         NaN   \n",
              "4    RECOVERED          NO         NaN         NaN   \n",
              "\n",
              "                                    ValidationStatus  \n",
              "0  Removal Type is \"Recovered\", but no Recovered ...  \n",
              "1                                                NaN  \n",
              "2  Case has Admitting Facility but is not Admitte...  \n",
              "3      Case has Lab Result, but Result Date is blank  \n",
              "4  Health Status is \"Recovered\", but no Date Reco...  \n",
              "\n",
              "[5 rows x 22 columns]"
            ],
            "text/html": [
              "\n",
              "  <div id=\"df-fa441116-6b95-4047-b873-534080975b5a\" class=\"colab-df-container\">\n",
              "    <div>\n",
              "<style scoped>\n",
              "    .dataframe tbody tr th:only-of-type {\n",
              "        vertical-align: middle;\n",
              "    }\n",
              "\n",
              "    .dataframe tbody tr th {\n",
              "        vertical-align: top;\n",
              "    }\n",
              "\n",
              "    .dataframe thead th {\n",
              "        text-align: right;\n",
              "    }\n",
              "</style>\n",
              "<table border=\"1\" class=\"dataframe\">\n",
              "  <thead>\n",
              "    <tr style=\"text-align: right;\">\n",
              "      <th></th>\n",
              "      <th>CaseCode</th>\n",
              "      <th>Age</th>\n",
              "      <th>AgeGroup</th>\n",
              "      <th>Sex</th>\n",
              "      <th>DateSpecimen</th>\n",
              "      <th>DateResultRelease</th>\n",
              "      <th>DateRepConf</th>\n",
              "      <th>DateDied</th>\n",
              "      <th>DateRecover</th>\n",
              "      <th>RemovalType</th>\n",
              "      <th>...</th>\n",
              "      <th>ProvRes</th>\n",
              "      <th>CityMunRes</th>\n",
              "      <th>CityMuniPSGC</th>\n",
              "      <th>BarangayRes</th>\n",
              "      <th>BarangayPSGC</th>\n",
              "      <th>HealthStatus</th>\n",
              "      <th>Quarantined</th>\n",
              "      <th>DateOnset</th>\n",
              "      <th>Pregnanttab</th>\n",
              "      <th>ValidationStatus</th>\n",
              "    </tr>\n",
              "  </thead>\n",
              "  <tbody>\n",
              "    <tr>\n",
              "      <th>0</th>\n",
              "      <td>C404174</td>\n",
              "      <td>38.0</td>\n",
              "      <td>35 to 39</td>\n",
              "      <td>FEMALE</td>\n",
              "      <td>NaN</td>\n",
              "      <td>01/30/2020</td>\n",
              "      <td>01/30/2020</td>\n",
              "      <td>NaN</td>\n",
              "      <td>NaN</td>\n",
              "      <td>RECOVERED</td>\n",
              "      <td>...</td>\n",
              "      <td>NEGROS ORIENTAL</td>\n",
              "      <td>DUMAGUETE CITY (CAPITAL)</td>\n",
              "      <td>PH074610000</td>\n",
              "      <td>NaN</td>\n",
              "      <td>NaN</td>\n",
              "      <td>RECOVERED</td>\n",
              "      <td>NO</td>\n",
              "      <td>01/21/2020</td>\n",
              "      <td>NO</td>\n",
              "      <td>Removal Type is \"Recovered\", but no Recovered ...</td>\n",
              "    </tr>\n",
              "    <tr>\n",
              "      <th>1</th>\n",
              "      <td>C462688</td>\n",
              "      <td>44.0</td>\n",
              "      <td>40 to 44</td>\n",
              "      <td>MALE</td>\n",
              "      <td>NaN</td>\n",
              "      <td>01/30/2020</td>\n",
              "      <td>02/03/2020</td>\n",
              "      <td>02/01/2020</td>\n",
              "      <td>NaN</td>\n",
              "      <td>DIED</td>\n",
              "      <td>...</td>\n",
              "      <td>NEGROS ORIENTAL</td>\n",
              "      <td>DUMAGUETE CITY (CAPITAL)</td>\n",
              "      <td>PH074610000</td>\n",
              "      <td>NaN</td>\n",
              "      <td>NaN</td>\n",
              "      <td>DIED</td>\n",
              "      <td>NO</td>\n",
              "      <td>01/18/2020</td>\n",
              "      <td>NaN</td>\n",
              "      <td>NaN</td>\n",
              "    </tr>\n",
              "    <tr>\n",
              "      <th>2</th>\n",
              "      <td>C387710</td>\n",
              "      <td>60.0</td>\n",
              "      <td>60 to 64</td>\n",
              "      <td>FEMALE</td>\n",
              "      <td>01/23/2020</td>\n",
              "      <td>01/30/2020</td>\n",
              "      <td>02/05/2020</td>\n",
              "      <td>NaN</td>\n",
              "      <td>01/31/2020</td>\n",
              "      <td>RECOVERED</td>\n",
              "      <td>...</td>\n",
              "      <td>BOHOL</td>\n",
              "      <td>PANGLAO</td>\n",
              "      <td>PH071233000</td>\n",
              "      <td>NaN</td>\n",
              "      <td>NaN</td>\n",
              "      <td>RECOVERED</td>\n",
              "      <td>NO</td>\n",
              "      <td>01/21/2020</td>\n",
              "      <td>NO</td>\n",
              "      <td>Case has Admitting Facility but is not Admitte...</td>\n",
              "    </tr>\n",
              "    <tr>\n",
              "      <th>3</th>\n",
              "      <td>C498051</td>\n",
              "      <td>63.0</td>\n",
              "      <td>60 to 64</td>\n",
              "      <td>MALE</td>\n",
              "      <td>03/05/2020</td>\n",
              "      <td>NaN</td>\n",
              "      <td>03/06/2020</td>\n",
              "      <td>03/11/2020</td>\n",
              "      <td>NaN</td>\n",
              "      <td>DIED</td>\n",
              "      <td>...</td>\n",
              "      <td>RIZAL</td>\n",
              "      <td>CAINTA</td>\n",
              "      <td>PH045805000</td>\n",
              "      <td>NaN</td>\n",
              "      <td>NaN</td>\n",
              "      <td>DIED</td>\n",
              "      <td>NO</td>\n",
              "      <td>NaN</td>\n",
              "      <td>NaN</td>\n",
              "      <td>Case has Lab Result, but Result Date is blank</td>\n",
              "    </tr>\n",
              "    <tr>\n",
              "      <th>4</th>\n",
              "      <td>C377460</td>\n",
              "      <td>49.0</td>\n",
              "      <td>45 to 49</td>\n",
              "      <td>MALE</td>\n",
              "      <td>NaN</td>\n",
              "      <td>NaN</td>\n",
              "      <td>03/06/2020</td>\n",
              "      <td>NaN</td>\n",
              "      <td>NaN</td>\n",
              "      <td>RECOVERED</td>\n",
              "      <td>...</td>\n",
              "      <td>BATANGAS</td>\n",
              "      <td>SANTO TOMAS</td>\n",
              "      <td>PH041028000</td>\n",
              "      <td>NaN</td>\n",
              "      <td>NaN</td>\n",
              "      <td>RECOVERED</td>\n",
              "      <td>NO</td>\n",
              "      <td>NaN</td>\n",
              "      <td>NaN</td>\n",
              "      <td>Health Status is \"Recovered\", but no Date Reco...</td>\n",
              "    </tr>\n",
              "  </tbody>\n",
              "</table>\n",
              "<p>5 rows × 22 columns</p>\n",
              "</div>\n",
              "    <div class=\"colab-df-buttons\">\n",
              "\n",
              "  <div class=\"colab-df-container\">\n",
              "    <button class=\"colab-df-convert\" onclick=\"convertToInteractive('df-fa441116-6b95-4047-b873-534080975b5a')\"\n",
              "            title=\"Convert this dataframe to an interactive table.\"\n",
              "            style=\"display:none;\">\n",
              "\n",
              "  <svg xmlns=\"http://www.w3.org/2000/svg\" height=\"24px\" viewBox=\"0 -960 960 960\">\n",
              "    <path d=\"M120-120v-720h720v720H120Zm60-500h600v-160H180v160Zm220 220h160v-160H400v160Zm0 220h160v-160H400v160ZM180-400h160v-160H180v160Zm440 0h160v-160H620v160ZM180-180h160v-160H180v160Zm440 0h160v-160H620v160Z\"/>\n",
              "  </svg>\n",
              "    </button>\n",
              "\n",
              "  <style>\n",
              "    .colab-df-container {\n",
              "      display:flex;\n",
              "      gap: 12px;\n",
              "    }\n",
              "\n",
              "    .colab-df-convert {\n",
              "      background-color: #E8F0FE;\n",
              "      border: none;\n",
              "      border-radius: 50%;\n",
              "      cursor: pointer;\n",
              "      display: none;\n",
              "      fill: #1967D2;\n",
              "      height: 32px;\n",
              "      padding: 0 0 0 0;\n",
              "      width: 32px;\n",
              "    }\n",
              "\n",
              "    .colab-df-convert:hover {\n",
              "      background-color: #E2EBFA;\n",
              "      box-shadow: 0px 1px 2px rgba(60, 64, 67, 0.3), 0px 1px 3px 1px rgba(60, 64, 67, 0.15);\n",
              "      fill: #174EA6;\n",
              "    }\n",
              "\n",
              "    .colab-df-buttons div {\n",
              "      margin-bottom: 4px;\n",
              "    }\n",
              "\n",
              "    [theme=dark] .colab-df-convert {\n",
              "      background-color: #3B4455;\n",
              "      fill: #D2E3FC;\n",
              "    }\n",
              "\n",
              "    [theme=dark] .colab-df-convert:hover {\n",
              "      background-color: #434B5C;\n",
              "      box-shadow: 0px 1px 3px 1px rgba(0, 0, 0, 0.15);\n",
              "      filter: drop-shadow(0px 1px 2px rgba(0, 0, 0, 0.3));\n",
              "      fill: #FFFFFF;\n",
              "    }\n",
              "  </style>\n",
              "\n",
              "    <script>\n",
              "      const buttonEl =\n",
              "        document.querySelector('#df-fa441116-6b95-4047-b873-534080975b5a button.colab-df-convert');\n",
              "      buttonEl.style.display =\n",
              "        google.colab.kernel.accessAllowed ? 'block' : 'none';\n",
              "\n",
              "      async function convertToInteractive(key) {\n",
              "        const element = document.querySelector('#df-fa441116-6b95-4047-b873-534080975b5a');\n",
              "        const dataTable =\n",
              "          await google.colab.kernel.invokeFunction('convertToInteractive',\n",
              "                                                    [key], {});\n",
              "        if (!dataTable) return;\n",
              "\n",
              "        const docLinkHtml = 'Like what you see? Visit the ' +\n",
              "          '<a target=\"_blank\" href=https://colab.research.google.com/notebooks/data_table.ipynb>data table notebook</a>'\n",
              "          + ' to learn more about interactive tables.';\n",
              "        element.innerHTML = '';\n",
              "        dataTable['output_type'] = 'display_data';\n",
              "        await google.colab.output.renderOutput(dataTable, element);\n",
              "        const docLink = document.createElement('div');\n",
              "        docLink.innerHTML = docLinkHtml;\n",
              "        element.appendChild(docLink);\n",
              "      }\n",
              "    </script>\n",
              "  </div>\n",
              "\n",
              "\n",
              "<div id=\"df-c9bc723a-18e0-4c8d-92a5-29942f97800c\">\n",
              "  <button class=\"colab-df-quickchart\" onclick=\"quickchart('df-c9bc723a-18e0-4c8d-92a5-29942f97800c')\"\n",
              "            title=\"Suggest charts.\"\n",
              "            style=\"display:none;\">\n",
              "\n",
              "<svg xmlns=\"http://www.w3.org/2000/svg\" height=\"24px\"viewBox=\"0 0 24 24\"\n",
              "     width=\"24px\">\n",
              "    <g>\n",
              "        <path d=\"M19 3H5c-1.1 0-2 .9-2 2v14c0 1.1.9 2 2 2h14c1.1 0 2-.9 2-2V5c0-1.1-.9-2-2-2zM9 17H7v-7h2v7zm4 0h-2V7h2v10zm4 0h-2v-4h2v4z\"/>\n",
              "    </g>\n",
              "</svg>\n",
              "  </button>\n",
              "\n",
              "<style>\n",
              "  .colab-df-quickchart {\n",
              "      --bg-color: #E8F0FE;\n",
              "      --fill-color: #1967D2;\n",
              "      --hover-bg-color: #E2EBFA;\n",
              "      --hover-fill-color: #174EA6;\n",
              "      --disabled-fill-color: #AAA;\n",
              "      --disabled-bg-color: #DDD;\n",
              "  }\n",
              "\n",
              "  [theme=dark] .colab-df-quickchart {\n",
              "      --bg-color: #3B4455;\n",
              "      --fill-color: #D2E3FC;\n",
              "      --hover-bg-color: #434B5C;\n",
              "      --hover-fill-color: #FFFFFF;\n",
              "      --disabled-bg-color: #3B4455;\n",
              "      --disabled-fill-color: #666;\n",
              "  }\n",
              "\n",
              "  .colab-df-quickchart {\n",
              "    background-color: var(--bg-color);\n",
              "    border: none;\n",
              "    border-radius: 50%;\n",
              "    cursor: pointer;\n",
              "    display: none;\n",
              "    fill: var(--fill-color);\n",
              "    height: 32px;\n",
              "    padding: 0;\n",
              "    width: 32px;\n",
              "  }\n",
              "\n",
              "  .colab-df-quickchart:hover {\n",
              "    background-color: var(--hover-bg-color);\n",
              "    box-shadow: 0 1px 2px rgba(60, 64, 67, 0.3), 0 1px 3px 1px rgba(60, 64, 67, 0.15);\n",
              "    fill: var(--button-hover-fill-color);\n",
              "  }\n",
              "\n",
              "  .colab-df-quickchart-complete:disabled,\n",
              "  .colab-df-quickchart-complete:disabled:hover {\n",
              "    background-color: var(--disabled-bg-color);\n",
              "    fill: var(--disabled-fill-color);\n",
              "    box-shadow: none;\n",
              "  }\n",
              "\n",
              "  .colab-df-spinner {\n",
              "    border: 2px solid var(--fill-color);\n",
              "    border-color: transparent;\n",
              "    border-bottom-color: var(--fill-color);\n",
              "    animation:\n",
              "      spin 1s steps(1) infinite;\n",
              "  }\n",
              "\n",
              "  @keyframes spin {\n",
              "    0% {\n",
              "      border-color: transparent;\n",
              "      border-bottom-color: var(--fill-color);\n",
              "      border-left-color: var(--fill-color);\n",
              "    }\n",
              "    20% {\n",
              "      border-color: transparent;\n",
              "      border-left-color: var(--fill-color);\n",
              "      border-top-color: var(--fill-color);\n",
              "    }\n",
              "    30% {\n",
              "      border-color: transparent;\n",
              "      border-left-color: var(--fill-color);\n",
              "      border-top-color: var(--fill-color);\n",
              "      border-right-color: var(--fill-color);\n",
              "    }\n",
              "    40% {\n",
              "      border-color: transparent;\n",
              "      border-right-color: var(--fill-color);\n",
              "      border-top-color: var(--fill-color);\n",
              "    }\n",
              "    60% {\n",
              "      border-color: transparent;\n",
              "      border-right-color: var(--fill-color);\n",
              "    }\n",
              "    80% {\n",
              "      border-color: transparent;\n",
              "      border-right-color: var(--fill-color);\n",
              "      border-bottom-color: var(--fill-color);\n",
              "    }\n",
              "    90% {\n",
              "      border-color: transparent;\n",
              "      border-bottom-color: var(--fill-color);\n",
              "    }\n",
              "  }\n",
              "</style>\n",
              "\n",
              "  <script>\n",
              "    async function quickchart(key) {\n",
              "      const quickchartButtonEl =\n",
              "        document.querySelector('#' + key + ' button');\n",
              "      quickchartButtonEl.disabled = true;  // To prevent multiple clicks.\n",
              "      quickchartButtonEl.classList.add('colab-df-spinner');\n",
              "      try {\n",
              "        const charts = await google.colab.kernel.invokeFunction(\n",
              "            'suggestCharts', [key], {});\n",
              "      } catch (error) {\n",
              "        console.error('Error during call to suggestCharts:', error);\n",
              "      }\n",
              "      quickchartButtonEl.classList.remove('colab-df-spinner');\n",
              "      quickchartButtonEl.classList.add('colab-df-quickchart-complete');\n",
              "    }\n",
              "    (() => {\n",
              "      let quickchartButtonEl =\n",
              "        document.querySelector('#df-c9bc723a-18e0-4c8d-92a5-29942f97800c button');\n",
              "      quickchartButtonEl.style.display =\n",
              "        google.colab.kernel.accessAllowed ? 'block' : 'none';\n",
              "    })();\n",
              "  </script>\n",
              "</div>\n",
              "    </div>\n",
              "  </div>\n"
            ]
          },
          "metadata": {},
          "execution_count": 4
        }
      ],
      "source": [
        "#display first 5 rows\n",
        "covid_df.head()"
      ]
    },
    {
      "cell_type": "code",
      "execution_count": null,
      "metadata": {
        "colab": {
          "base_uri": "https://localhost:8080/"
        },
        "id": "KoFkQ1vI7WhD",
        "outputId": "4d34878e-8801-4bd6-acd9-77fe4756e2e9"
      },
      "outputs": [
        {
          "output_type": "execute_result",
          "data": {
            "text/plain": [
              "(1000000, 22)"
            ]
          },
          "metadata": {},
          "execution_count": 5
        }
      ],
      "source": [
        "covid_df.shape"
      ]
    },
    {
      "cell_type": "code",
      "source": [
        "covid_df.info()"
      ],
      "metadata": {
        "colab": {
          "base_uri": "https://localhost:8080/"
        },
        "id": "3j12Yp_YsSE_",
        "outputId": "a30a9f8f-0434-4d1a-eff9-65f4c5fdeca4"
      },
      "execution_count": null,
      "outputs": [
        {
          "output_type": "stream",
          "name": "stdout",
          "text": [
            "<class 'pandas.core.frame.DataFrame'>\n",
            "RangeIndex: 1000000 entries, 0 to 999999\n",
            "Data columns (total 22 columns):\n",
            " #   Column             Non-Null Count    Dtype  \n",
            "---  ------             --------------    -----  \n",
            " 0   CaseCode           1000000 non-null  object \n",
            " 1   Age                997807 non-null   float64\n",
            " 2   AgeGroup           997807 non-null   object \n",
            " 3   Sex                1000000 non-null  object \n",
            " 4   DateSpecimen       704041 non-null   object \n",
            " 5   DateResultRelease  702771 non-null   object \n",
            " 6   DateRepConf        1000000 non-null  object \n",
            " 7   DateDied           19726 non-null    object \n",
            " 8   DateRecover        302409 non-null   object \n",
            " 9   RemovalType        997578 non-null   object \n",
            " 10  Admitted           316516 non-null   object \n",
            " 11  RegionRes          996907 non-null   object \n",
            " 12  ProvRes            967022 non-null   object \n",
            " 13  CityMunRes         957285 non-null   object \n",
            " 14  CityMuniPSGC       957285 non-null   object \n",
            " 15  BarangayRes        749833 non-null   object \n",
            " 16  BarangayPSGC       749833 non-null   object \n",
            " 17  HealthStatus       1000000 non-null  object \n",
            " 18  Quarantined        999853 non-null   object \n",
            " 19  DateOnset          301827 non-null   object \n",
            " 20  Pregnanttab        472935 non-null   object \n",
            " 21  ValidationStatus   717898 non-null   object \n",
            "dtypes: float64(1), object(21)\n",
            "memory usage: 167.8+ MB\n"
          ]
        }
      ]
    },
    {
      "cell_type": "code",
      "execution_count": null,
      "metadata": {
        "colab": {
          "base_uri": "https://localhost:8080/"
        },
        "id": "-tWBJ9He_G1M",
        "outputId": "7f9c5e82-b8cd-45bf-e07f-d6cf57401d87"
      },
      "outputs": [
        {
          "output_type": "execute_result",
          "data": {
            "text/plain": [
              "CaseCode                  0\n",
              "Age                    2193\n",
              "AgeGroup               2193\n",
              "Sex                       0\n",
              "DateSpecimen         295959\n",
              "DateResultRelease    297229\n",
              "DateRepConf               0\n",
              "DateDied             980274\n",
              "DateRecover          697591\n",
              "RemovalType            2422\n",
              "Admitted             683484\n",
              "RegionRes              3093\n",
              "ProvRes               32978\n",
              "CityMunRes            42715\n",
              "CityMuniPSGC          42715\n",
              "BarangayRes          250167\n",
              "BarangayPSGC         250167\n",
              "HealthStatus              0\n",
              "Quarantined             147\n",
              "DateOnset            698173\n",
              "Pregnanttab          527065\n",
              "ValidationStatus     282102\n",
              "dtype: int64"
            ]
          },
          "metadata": {},
          "execution_count": 7
        }
      ],
      "source": [
        "#find any null values in the dataset\n",
        "covid_df.isnull().sum()"
      ]
    },
    {
      "cell_type": "code",
      "source": [
        "#detect existing non-missing values\n",
        "covid_df.notna().sum()"
      ],
      "metadata": {
        "colab": {
          "base_uri": "https://localhost:8080/"
        },
        "id": "DxGscJwQrQ0Q",
        "outputId": "3a085837-96b7-45ce-c443-fdd40e0f8517"
      },
      "execution_count": null,
      "outputs": [
        {
          "output_type": "execute_result",
          "data": {
            "text/plain": [
              "CaseCode             1000000\n",
              "Age                   997807\n",
              "AgeGroup              997807\n",
              "Sex                  1000000\n",
              "DateSpecimen          704041\n",
              "DateResultRelease     702771\n",
              "DateRepConf          1000000\n",
              "DateDied               19726\n",
              "DateRecover           302409\n",
              "RemovalType           997578\n",
              "Admitted              316516\n",
              "RegionRes             996907\n",
              "ProvRes               967022\n",
              "CityMunRes            957285\n",
              "CityMuniPSGC          957285\n",
              "BarangayRes           749833\n",
              "BarangayPSGC          749833\n",
              "HealthStatus         1000000\n",
              "Quarantined           999853\n",
              "DateOnset             301827\n",
              "Pregnanttab           472935\n",
              "ValidationStatus      717898\n",
              "dtype: int64"
            ]
          },
          "metadata": {},
          "execution_count": 8
        }
      ]
    },
    {
      "cell_type": "code",
      "source": [
        "#checking for duplicates\n",
        "covid_df.duplicated().sum() #counts the number of duplicate items"
      ],
      "metadata": {
        "id": "nKMWm4U9tM7O",
        "colab": {
          "base_uri": "https://localhost:8080/"
        },
        "outputId": "853f4eb8-64df-424e-a3a8-98728154e096"
      },
      "execution_count": null,
      "outputs": [
        {
          "output_type": "execute_result",
          "data": {
            "text/plain": [
              "0"
            ]
          },
          "metadata": {},
          "execution_count": 18
        }
      ]
    },
    {
      "cell_type": "markdown",
      "source": [
        "##Feature Selection\n",
        "\n",
        "We have selected relevant fields in which we could get some insight to solve our problem.\n",
        "\n",
        "The table below shows the meta data taken from DOH (https://drive.google.com/drive/folders/1Ule24SFmIMVSsaPmempNpRy2zgbIDiV0)"
      ],
      "metadata": {
        "id": "JyV_ISDTodIU"
      }
    },
    {
      "cell_type": "markdown",
      "source": [
        "![image.png](data:image/png;base64,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)"
      ],
      "metadata": {
        "id": "nwe4yEH8pD-B"
      }
    },
    {
      "cell_type": "markdown",
      "source": [
        "Those in red color are the fields that we have droped."
      ],
      "metadata": {
        "id": "NX-pXfWipxf-"
      }
    },
    {
      "cell_type": "markdown",
      "source": [
        "![image.png](data:image/png;base64,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)"
      ],
      "metadata": {
        "id": "s1WjQodEpudQ"
      }
    },
    {
      "cell_type": "code",
      "source": [
        "# Checking values under RemovalType\n",
        "covid_df['RemovalType'].value_counts()"
      ],
      "metadata": {
        "colab": {
          "base_uri": "https://localhost:8080/"
        },
        "id": "BHvp2c-dsZ2O",
        "outputId": "91a1d537-afc2-4a35-abf1-a8f77482a130"
      },
      "execution_count": null,
      "outputs": [
        {
          "output_type": "execute_result",
          "data": {
            "text/plain": [
              "RECOVERED    977745\n",
              "DIED          19833\n",
              "Name: RemovalType, dtype: int64"
            ]
          },
          "metadata": {},
          "execution_count": 17
        }
      ]
    },
    {
      "cell_type": "markdown",
      "source": [
        "###Dropping Columns"
      ],
      "metadata": {
        "id": "Nh1sBQkGpj27"
      }
    },
    {
      "cell_type": "code",
      "source": [
        "covid_df.drop(['DateRepConf', 'CityMuniPSGC', 'BarangayPSGC', 'HealthStatus', 'ValidationStatus'], axis=1, inplace=True)"
      ],
      "metadata": {
        "id": "JUC5HxiQqSkr"
      },
      "execution_count": null,
      "outputs": []
    },
    {
      "cell_type": "code",
      "source": [
        "covid_df.info()"
      ],
      "metadata": {
        "colab": {
          "base_uri": "https://localhost:8080/"
        },
        "id": "-TBi81lNrF-5",
        "outputId": "5d0dc4b3-0c3c-45b3-ef09-e35b906133c0"
      },
      "execution_count": null,
      "outputs": [
        {
          "output_type": "stream",
          "name": "stdout",
          "text": [
            "<class 'pandas.core.frame.DataFrame'>\n",
            "RangeIndex: 1000000 entries, 0 to 999999\n",
            "Data columns (total 17 columns):\n",
            " #   Column             Non-Null Count    Dtype  \n",
            "---  ------             --------------    -----  \n",
            " 0   CaseCode           1000000 non-null  object \n",
            " 1   Age                997807 non-null   float64\n",
            " 2   AgeGroup           997807 non-null   object \n",
            " 3   Sex                1000000 non-null  object \n",
            " 4   DateSpecimen       704041 non-null   object \n",
            " 5   DateResultRelease  702771 non-null   object \n",
            " 6   DateDied           19726 non-null    object \n",
            " 7   DateRecover        302409 non-null   object \n",
            " 8   RemovalType        997578 non-null   object \n",
            " 9   Admitted           316516 non-null   object \n",
            " 10  RegionRes          996907 non-null   object \n",
            " 11  ProvRes            967022 non-null   object \n",
            " 12  CityMunRes         957285 non-null   object \n",
            " 13  BarangayRes        749833 non-null   object \n",
            " 14  Quarantined        999853 non-null   object \n",
            " 15  DateOnset          301827 non-null   object \n",
            " 16  Pregnanttab        472935 non-null   object \n",
            "dtypes: float64(1), object(16)\n",
            "memory usage: 129.7+ MB\n"
          ]
        }
      ]
    },
    {
      "cell_type": "markdown",
      "source": [
        "### Dealing with Data Gaps"
      ],
      "metadata": {
        "id": "yw1Cln2lq43N"
      }
    },
    {
      "cell_type": "code",
      "source": [
        "# Dropping empty values under \"Removal Type\"\n",
        "covid_df = covid_df.dropna(subset=\"RemovalType\")"
      ],
      "metadata": {
        "id": "x8A73Etgq8XQ"
      },
      "execution_count": null,
      "outputs": []
    },
    {
      "cell_type": "code",
      "source": [
        "covid_df.shape"
      ],
      "metadata": {
        "colab": {
          "base_uri": "https://localhost:8080/"
        },
        "id": "vWJzMCq4r-x1",
        "outputId": "852f5ba1-a9f6-47fe-f560-e0308be45273"
      },
      "execution_count": null,
      "outputs": [
        {
          "output_type": "execute_result",
          "data": {
            "text/plain": [
              "(997578, 17)"
            ]
          },
          "metadata": {},
          "execution_count": 14
        }
      ]
    },
    {
      "cell_type": "code",
      "source": [
        "# Count the occurrences of each category in 'RemovalType'\n",
        "health_status = covid_df['RemovalType'].value_counts()\n",
        "\n",
        "# Graph RemovalType\n",
        "plt.figure(figsize=(10, 6))\n",
        "health_status.plot(kind = 'bar')\n",
        "plt.xticks(rotation=45)\n",
        "\n",
        "# Add counts as annotations on top of the bars\n",
        "for i, count in enumerate(health_status.values):\n",
        "  plt.text(i, count, str(count), ha='center', va='bottom')\n",
        "\n",
        "# Adding labels and titles\n",
        "plt.xlabel(\"status\")\n",
        "plt.ylabel(\"count\")\n",
        "plt.title(\"Health Status\")\n",
        "plt.show()\n"
      ],
      "metadata": {
        "colab": {
          "base_uri": "https://localhost:8080/",
          "height": 621
        },
        "id": "JBRfGDj8tBa0",
        "outputId": "e16f19ac-3a27-4524-9256-e23c09021f54"
      },
      "execution_count": null,
      "outputs": [
        {
          "output_type": "display_data",
          "data": {
            "text/plain": [
              "<Figure size 1000x600 with 1 Axes>"
            ],
            "image/png": "[encoded data removed]"
          },
          "metadata": {}
        }
      ]
    },
    {
      "cell_type": "markdown",
      "source": [
        "## Changing Datatypes"
      ],
      "metadata": {
        "id": "JhcOpk1MwE_K"
      }
    },
    {
      "cell_type": "code",
      "source": [
        "covid_df['DateSpecimen'] = pd.to_datetime(covid_df['DateSpecimen'])\n",
        "covid_df['DateResultRelease'] = pd.to_datetime(covid_df['DateResultRelease'])\n",
        "covid_df['DateDied'] = pd.to_datetime(covid_df['DateDied'])\n",
        "covid_df['DateRecover'] = pd.to_datetime(covid_df['DateRecover'])"
      ],
      "metadata": {
        "colab": {
          "base_uri": "https://localhost:8080/"
        },
        "id": "dsbT3Lg2wN1G",
        "outputId": "95cf6dca-9bf3-404f-9a20-318512abc257"
      },
      "execution_count": null,
      "outputs": [
        {
          "output_type": "stream",
          "name": "stderr",
          "text": [
            "<ipython-input-25-5ccd78b10131>:1: SettingWithCopyWarning: \n",
            "A value is trying to be set on a copy of a slice from a DataFrame.\n",
            "Try using .loc[row_indexer,col_indexer] = value instead\n",
            "\n",
            "See the caveats in the documentation: https://pandas.pydata.org/pandas-docs/stable/user_guide/indexing.html#returning-a-view-versus-a-copy\n",
            "  covid_df['DateSpecimen'] = pd.to_datetime(covid_df['DateSpecimen'])\n",
            "<ipython-input-25-5ccd78b10131>:2: SettingWithCopyWarning: \n",
            "A value is trying to be set on a copy of a slice from a DataFrame.\n",
            "Try using .loc[row_indexer,col_indexer] = value instead\n",
            "\n",
            "See the caveats in the documentation: https://pandas.pydata.org/pandas-docs/stable/user_guide/indexing.html#returning-a-view-versus-a-copy\n",
            "  covid_df['DateResultRelease'] = pd.to_datetime(covid_df['DateResultRelease'])\n",
            "<ipython-input-25-5ccd78b10131>:3: SettingWithCopyWarning: \n",
            "A value is trying to be set on a copy of a slice from a DataFrame.\n",
            "Try using .loc[row_indexer,col_indexer] = value instead\n",
            "\n",
            "See the caveats in the documentation: https://pandas.pydata.org/pandas-docs/stable/user_guide/indexing.html#returning-a-view-versus-a-copy\n",
            "  covid_df['DateDied'] = pd.to_datetime(covid_df['DateDied'])\n",
            "<ipython-input-25-5ccd78b10131>:4: SettingWithCopyWarning: \n",
            "A value is trying to be set on a copy of a slice from a DataFrame.\n",
            "Try using .loc[row_indexer,col_indexer] = value instead\n",
            "\n",
            "See the caveats in the documentation: https://pandas.pydata.org/pandas-docs/stable/user_guide/indexing.html#returning-a-view-versus-a-copy\n",
            "  covid_df['DateRecover'] = pd.to_datetime(covid_df['DateRecover'])\n"
          ]
        }
      ]
    },
    {
      "cell_type": "code",
      "source": [
        "covid_df.info()"
      ],
      "metadata": {
        "colab": {
          "base_uri": "https://localhost:8080/"
        },
        "id": "Bteg0ZUPyVAj",
        "outputId": "925b1578-2d49-419d-a74e-f705cca76f47"
      },
      "execution_count": null,
      "outputs": [
        {
          "output_type": "stream",
          "name": "stdout",
          "text": [
            "<class 'pandas.core.frame.DataFrame'>\n",
            "Int64Index: 997578 entries, 0 to 999999\n",
            "Data columns (total 17 columns):\n",
            " #   Column             Non-Null Count   Dtype         \n",
            "---  ------             --------------   -----         \n",
            " 0   CaseCode           997578 non-null  object        \n",
            " 1   Age                995389 non-null  float64       \n",
            " 2   AgeGroup           995389 non-null  object        \n",
            " 3   Sex                997578 non-null  object        \n",
            " 4   DateSpecimen       701977 non-null  datetime64[ns]\n",
            " 5   DateResultRelease  700705 non-null  datetime64[ns]\n",
            " 6   DateDied           19726 non-null   datetime64[ns]\n",
            " 7   DateRecover        302409 non-null  datetime64[ns]\n",
            " 8   RemovalType        997578 non-null  object        \n",
            " 9   Admitted           314911 non-null  object        \n",
            " 10  RegionRes          994489 non-null  object        \n",
            " 11  ProvRes            964641 non-null  object        \n",
            " 12  CityMunRes         954932 non-null  object        \n",
            " 13  BarangayRes        748205 non-null  object        \n",
            " 14  Quarantined        997431 non-null  object        \n",
            " 15  DateOnset          300509 non-null  object        \n",
            " 16  Pregnanttab        471924 non-null  object        \n",
            "dtypes: datetime64[ns](4), float64(1), object(12)\n",
            "memory usage: 137.0+ MB\n"
          ]
        }
      ]
    },
    {
      "cell_type": "markdown",
      "source": [
        "## Checking the columns"
      ],
      "metadata": {
        "id": "OIdOYumWyz8F"
      }
    },
    {
      "cell_type": "code",
      "source": [
        "covid_df[\"CaseCode\"].nunique()"
      ],
      "metadata": {
        "colab": {
          "base_uri": "https://localhost:8080/"
        },
        "id": "Cxr0YXi2zAit",
        "outputId": "6707f764-8b84-46b5-89a6-040901ed87e2"
      },
      "execution_count": null,
      "outputs": [
        {
          "output_type": "execute_result",
          "data": {
            "text/plain": [
              "997578"
            ]
          },
          "metadata": {},
          "execution_count": 27
        }
      ]
    },
    {
      "cell_type": "code",
      "source": [
        "covid_df['Sex'].value_counts()"
      ],
      "metadata": {
        "colab": {
          "base_uri": "https://localhost:8080/"
        },
        "id": "PdPq8dRU13zI",
        "outputId": "5c5f04c0-a0c0-4add-f18f-7584d19471a5"
      },
      "execution_count": null,
      "outputs": [
        {
          "output_type": "execute_result",
          "data": {
            "text/plain": [
              "MALE      526979\n",
              "FEMALE    473021\n",
              "Name: Sex, dtype: int64"
            ]
          },
          "metadata": {},
          "execution_count": 50
        }
      ]
    },
    {
      "cell_type": "code",
      "source": [
        "covid_df[\"Age\"].value_counts()"
      ],
      "metadata": {
        "colab": {
          "base_uri": "https://localhost:8080/"
        },
        "id": "pEUNvSSAzEek",
        "outputId": "19a94950-79a5-4cf0-8afd-e044d304f79f"
      },
      "execution_count": null,
      "outputs": [
        {
          "output_type": "execute_result",
          "data": {
            "text/plain": [
              " 28.0     30550\n",
              " 27.0     30284\n",
              " 29.0     30074\n",
              " 30.0     29933\n",
              " 26.0     29751\n",
              "          ...  \n",
              " 104.0        4\n",
              " 106.0        4\n",
              " 107.0        3\n",
              " 102.0        3\n",
              "-1.0          1\n",
              "Name: Age, Length: 109, dtype: int64"
            ]
          },
          "metadata": {},
          "execution_count": 28
        }
      ]
    },
    {
      "cell_type": "code",
      "source": [
        "covid_df[\"AgeGroup\"].value_counts()"
      ],
      "metadata": {
        "colab": {
          "base_uri": "https://localhost:8080/"
        },
        "id": "q3swT43NzItw",
        "outputId": "ee3f9ff1-0059-45c3-d31f-b8ce4e5e8f9b"
      },
      "execution_count": null,
      "outputs": [
        {
          "output_type": "execute_result",
          "data": {
            "text/plain": [
              "25 to 29    150368\n",
              "30 to 34    132499\n",
              "20 to 24    105379\n",
              "35 to 39    101182\n",
              "40 to 44     87231\n",
              "45 to 49     72833\n",
              "50 to 54     66685\n",
              "55 to 59     57376\n",
              "60 to 64     46127\n",
              "15 to 19     36707\n",
              "65 to 69     32588\n",
              "10 to 14     23313\n",
              "70 to 74     22652\n",
              "5 to 9       17234\n",
              "0 to 4       16964\n",
              "80+          13774\n",
              "75 to 79     12477\n",
              "Name: AgeGroup, dtype: int64"
            ]
          },
          "metadata": {},
          "execution_count": 29
        }
      ]
    },
    {
      "cell_type": "code",
      "source": [
        "covid_df[covid_df[\"Age\"] < 0]"
      ],
      "metadata": {
        "colab": {
          "base_uri": "https://localhost:8080/",
          "height": 118
        },
        "id": "KW342s8pzNnO",
        "outputId": "f5b3c5ea-6b4a-4f29-f285-d84b5a5ec36d"
      },
      "execution_count": null,
      "outputs": [
        {
          "output_type": "execute_result",
          "data": {
            "text/plain": [
              "      CaseCode  Age AgeGroup   Sex DateSpecimen DateResultRelease DateDied  \\\n",
              "11857  C397879 -1.0   0 to 4  MALE   2020-05-11        2020-05-12      NaT   \n",
              "\n",
              "      DateRecover RemovalType Admitted RegionRes ProvRes          CityMunRes  \\\n",
              "11857         NaT   RECOVERED      NaN       NCR     NCR  CITY OF MUNTINLUPA   \n",
              "\n",
              "      BarangayRes Quarantined DateOnset Pregnanttab  \n",
              "11857         NaN         YES       NaN         NaN  "
            ],
            "text/html": [
              "\n",
              "  <div id=\"df-62295c05-ed58-4398-8020-7aa597886076\" class=\"colab-df-container\">\n",
              "    <div>\n",
              "<style scoped>\n",
              "    .dataframe tbody tr th:only-of-type {\n",
              "        vertical-align: middle;\n",
              "    }\n",
              "\n",
              "    .dataframe tbody tr th {\n",
              "        vertical-align: top;\n",
              "    }\n",
              "\n",
              "    .dataframe thead th {\n",
              "        text-align: right;\n",
              "    }\n",
              "</style>\n",
              "<table border=\"1\" class=\"dataframe\">\n",
              "  <thead>\n",
              "    <tr style=\"text-align: right;\">\n",
              "      <th></th>\n",
              "      <th>CaseCode</th>\n",
              "      <th>Age</th>\n",
              "      <th>AgeGroup</th>\n",
              "      <th>Sex</th>\n",
              "      <th>DateSpecimen</th>\n",
              "      <th>DateResultRelease</th>\n",
              "      <th>DateDied</th>\n",
              "      <th>DateRecover</th>\n",
              "      <th>RemovalType</th>\n",
              "      <th>Admitted</th>\n",
              "      <th>RegionRes</th>\n",
              "      <th>ProvRes</th>\n",
              "      <th>CityMunRes</th>\n",
              "      <th>BarangayRes</th>\n",
              "      <th>Quarantined</th>\n",
              "      <th>DateOnset</th>\n",
              "      <th>Pregnanttab</th>\n",
              "    </tr>\n",
              "  </thead>\n",
              "  <tbody>\n",
              "    <tr>\n",
              "      <th>11857</th>\n",
              "      <td>C397879</td>\n",
              "      <td>-1.0</td>\n",
              "      <td>0 to 4</td>\n",
              "      <td>MALE</td>\n",
              "      <td>2020-05-11</td>\n",
              "      <td>2020-05-12</td>\n",
              "      <td>NaT</td>\n",
              "      <td>NaT</td>\n",
              "      <td>RECOVERED</td>\n",
              "      <td>NaN</td>\n",
              "      <td>NCR</td>\n",
              "      <td>NCR</td>\n",
              "      <td>CITY OF MUNTINLUPA</td>\n",
              "      <td>NaN</td>\n",
              "      <td>YES</td>\n",
              "      <td>NaN</td>\n",
              "      <td>NaN</td>\n",
              "    </tr>\n",
              "  </tbody>\n",
              "</table>\n",
              "</div>\n",
              "    <div class=\"colab-df-buttons\">\n",
              "\n",
              "  <div class=\"colab-df-container\">\n",
              "    <button class=\"colab-df-convert\" onclick=\"convertToInteractive('df-62295c05-ed58-4398-8020-7aa597886076')\"\n",
              "            title=\"Convert this dataframe to an interactive table.\"\n",
              "            style=\"display:none;\">\n",
              "\n",
              "  <svg xmlns=\"http://www.w3.org/2000/svg\" height=\"24px\" viewBox=\"0 -960 960 960\">\n",
              "    <path d=\"M120-120v-720h720v720H120Zm60-500h600v-160H180v160Zm220 220h160v-160H400v160Zm0 220h160v-160H400v160ZM180-400h160v-160H180v160Zm440 0h160v-160H620v160ZM180-180h160v-160H180v160Zm440 0h160v-160H620v160Z\"/>\n",
              "  </svg>\n",
              "    </button>\n",
              "\n",
              "  <style>\n",
              "    .colab-df-container {\n",
              "      display:flex;\n",
              "      gap: 12px;\n",
              "    }\n",
              "\n",
              "    .colab-df-convert {\n",
              "      background-color: #E8F0FE;\n",
              "      border: none;\n",
              "      border-radius: 50%;\n",
              "      cursor: pointer;\n",
              "      display: none;\n",
              "      fill: #1967D2;\n",
              "      height: 32px;\n",
              "      padding: 0 0 0 0;\n",
              "      width: 32px;\n",
              "    }\n",
              "\n",
              "    .colab-df-convert:hover {\n",
              "      background-color: #E2EBFA;\n",
              "      box-shadow: 0px 1px 2px rgba(60, 64, 67, 0.3), 0px 1px 3px 1px rgba(60, 64, 67, 0.15);\n",
              "      fill: #174EA6;\n",
              "    }\n",
              "\n",
              "    .colab-df-buttons div {\n",
              "      margin-bottom: 4px;\n",
              "    }\n",
              "\n",
              "    [theme=dark] .colab-df-convert {\n",
              "      background-color: #3B4455;\n",
              "      fill: #D2E3FC;\n",
              "    }\n",
              "\n",
              "    [theme=dark] .colab-df-convert:hover {\n",
              "      background-color: #434B5C;\n",
              "      box-shadow: 0px 1px 3px 1px rgba(0, 0, 0, 0.15);\n",
              "      filter: drop-shadow(0px 1px 2px rgba(0, 0, 0, 0.3));\n",
              "      fill: #FFFFFF;\n",
              "    }\n",
              "  </style>\n",
              "\n",
              "    <script>\n",
              "      const buttonEl =\n",
              "        document.querySelector('#df-62295c05-ed58-4398-8020-7aa597886076 button.colab-df-convert');\n",
              "      buttonEl.style.display =\n",
              "        google.colab.kernel.accessAllowed ? 'block' : 'none';\n",
              "\n",
              "      async function convertToInteractive(key) {\n",
              "        const element = document.querySelector('#df-62295c05-ed58-4398-8020-7aa597886076');\n",
              "        const dataTable =\n",
              "          await google.colab.kernel.invokeFunction('convertToInteractive',\n",
              "                                                    [key], {});\n",
              "        if (!dataTable) return;\n",
              "\n",
              "        const docLinkHtml = 'Like what you see? Visit the ' +\n",
              "          '<a target=\"_blank\" href=https://colab.research.google.com/notebooks/data_table.ipynb>data table notebook</a>'\n",
              "          + ' to learn more about interactive tables.';\n",
              "        element.innerHTML = '';\n",
              "        dataTable['output_type'] = 'display_data';\n",
              "        await google.colab.output.renderOutput(dataTable, element);\n",
              "        const docLink = document.createElement('div');\n",
              "        docLink.innerHTML = docLinkHtml;\n",
              "        element.appendChild(docLink);\n",
              "      }\n",
              "    </script>\n",
              "  </div>\n",
              "\n",
              "    </div>\n",
              "  </div>\n"
            ]
          },
          "metadata": {},
          "execution_count": 30
        }
      ]
    },
    {
      "cell_type": "code",
      "source": [
        "covid_df.Age.hist()"
      ],
      "metadata": {
        "colab": {
          "base_uri": "https://localhost:8080/",
          "height": 448
        },
        "id": "kjrfia96zQ_a",
        "outputId": "8f9d584e-ec4b-4e9b-b199-a1c2e9964491"
      },
      "execution_count": null,
      "outputs": [
        {
          "output_type": "execute_result",
          "data": {
            "text/plain": [
              "<Axes: >"
            ]
          },
          "metadata": {},
          "execution_count": 31
        },
        {
          "output_type": "display_data",
          "data": {
            "text/plain": [
              "<Figure size 640x480 with 1 Axes>"
            ],
            "image/png": "[encoded data removed]"
          },
          "metadata": {}
        }
      ]
    },
    {
      "cell_type": "code",
      "source": [
        "covid_df[\"RegionRes\"].value_counts()"
      ],
      "metadata": {
        "colab": {
          "base_uri": "https://localhost:8080/"
        },
        "id": "LGpOUGoLzVOq",
        "outputId": "4f6a9746-17f5-494c-acf8-5fe6c4ec911b"
      },
      "execution_count": null,
      "outputs": [
        {
          "output_type": "execute_result",
          "data": {
            "text/plain": [
              "NCR                               441226\n",
              "Region IV-A: CALABARZON           174043\n",
              "Region III: Central Luzon          80513\n",
              "Region VII: Central Visayas        57981\n",
              "Region VI: Western Visayas         36939\n",
              "Region II: Cagayan Valley          29588\n",
              "CAR                                28463\n",
              "Region XI: Davao Region            24129\n",
              "ROF                                21924\n",
              "Region VIII: Eastern Visayas       18554\n",
              "Region I: Ilocos Region            16540\n",
              "Region X: Northern Mindanao        15209\n",
              "Region IX: Zamboanga Peninsula     10495\n",
              "CARAGA                             10270\n",
              "Region V: Bicol Region              9457\n",
              "Region XII: SOCCSKSARGEN            8048\n",
              "Region IV-B: MIMAROPA               5621\n",
              "BARMM                               5489\n",
              "Name: RegionRes, dtype: int64"
            ]
          },
          "metadata": {},
          "execution_count": 32
        }
      ]
    },
    {
      "cell_type": "code",
      "source": [
        "covid_df[\"ProvRes\"].value_counts()"
      ],
      "metadata": {
        "colab": {
          "base_uri": "https://localhost:8080/"
        },
        "id": "odWBKFJwzZGc",
        "outputId": "e4eab746-0c35-42af-bad1-f62c242216b8"
      },
      "execution_count": null,
      "outputs": [
        {
          "output_type": "execute_result",
          "data": {
            "text/plain": [
              "NCR                434680\n",
              "CAVITE              53663\n",
              "CEBU                51804\n",
              "RIZAL               43314\n",
              "LAGUNA              40126\n",
              "                    ...  \n",
              "DINAGAT ISLANDS       242\n",
              "TAWI-TAWI             222\n",
              "CAMIGUIN              152\n",
              "SIQUIJOR              148\n",
              "BATANES                16\n",
              "Name: ProvRes, Length: 84, dtype: int64"
            ]
          },
          "metadata": {},
          "execution_count": 33
        }
      ]
    },
    {
      "cell_type": "code",
      "source": [
        "covid_df[\"CityMunRes\"].value_counts()"
      ],
      "metadata": {
        "colab": {
          "base_uri": "https://localhost:8080/"
        },
        "id": "D-yipxExzb6E",
        "outputId": "d9577327-70d3-47dc-bcbd-fe7da04f1ed5"
      },
      "execution_count": null,
      "outputs": [
        {
          "output_type": "execute_result",
          "data": {
            "text/plain": [
              "QUEZON CITY              87201\n",
              "CITY OF MANILA           58297\n",
              "CALOOCAN CITY            31338\n",
              "CITY OF PASIG            30087\n",
              "TAGUIG CITY              29703\n",
              "                         ...  \n",
              "SOUTH UBIAN                  1\n",
              "LINAPACAN                    1\n",
              "MANGUDADATU                  1\n",
              "PAGAYAWAN (TATARIKAN)        1\n",
              "PAGLAT                       1\n",
              "Name: CityMunRes, Length: 1425, dtype: int64"
            ]
          },
          "metadata": {},
          "execution_count": 34
        }
      ]
    },
    {
      "cell_type": "code",
      "source": [
        "covid_df[\"Quarantined\"].value_counts()"
      ],
      "metadata": {
        "colab": {
          "base_uri": "https://localhost:8080/"
        },
        "id": "4H1EKadvzelc",
        "outputId": "c54f16be-0119-4df0-8218-d329cb569af5"
      },
      "execution_count": null,
      "outputs": [
        {
          "output_type": "execute_result",
          "data": {
            "text/plain": [
              "NO     801192\n",
              "YES    196239\n",
              "Name: Quarantined, dtype: int64"
            ]
          },
          "metadata": {},
          "execution_count": 35
        }
      ]
    },
    {
      "cell_type": "code",
      "source": [
        "covid_df[\"DateOnset\"].value_counts()"
      ],
      "metadata": {
        "colab": {
          "base_uri": "https://localhost:8080/"
        },
        "id": "dy5-J5aGzhNJ",
        "outputId": "4cd8ef83-f414-4373-8cdf-5873ad8b9575"
      },
      "execution_count": null,
      "outputs": [
        {
          "output_type": "execute_result",
          "data": {
            "text/plain": [
              "01/01/2021    5376\n",
              "04/16/2021    3253\n",
              "04/05/2021    3237\n",
              "04/15/2021    3230\n",
              "03/29/2021    3103\n",
              "              ... \n",
              "03/04/2020      27\n",
              "04/26/2021       5\n",
              "04/25/2021       3\n",
              "01/21/2020       2\n",
              "01/18/2020       1\n",
              "Name: DateOnset, Length: 424, dtype: int64"
            ]
          },
          "metadata": {},
          "execution_count": 36
        }
      ]
    },
    {
      "cell_type": "code",
      "source": [
        "covid_df[\"Pregnanttab\"].value_counts()"
      ],
      "metadata": {
        "colab": {
          "base_uri": "https://localhost:8080/"
        },
        "id": "dixEyVsVzkEj",
        "outputId": "0657461f-5708-4cfe-d1b7-2df794089d71"
      },
      "execution_count": null,
      "outputs": [
        {
          "output_type": "execute_result",
          "data": {
            "text/plain": [
              "NO     471819\n",
              "YES       105\n",
              "Name: Pregnanttab, dtype: int64"
            ]
          },
          "metadata": {},
          "execution_count": 37
        }
      ]
    },
    {
      "cell_type": "code",
      "source": [
        "covid_df['Sex'].value_counts()"
      ],
      "metadata": {
        "colab": {
          "base_uri": "https://localhost:8080/"
        },
        "id": "vBi5XA32Etpy",
        "outputId": "69d219dd-10ca-431c-a930-eef43ab29f88"
      },
      "execution_count": null,
      "outputs": [
        {
          "output_type": "execute_result",
          "data": {
            "text/plain": [
              "MALE      525568\n",
              "FEMALE    472010\n",
              "Name: Sex, dtype: int64"
            ]
          },
          "metadata": {},
          "execution_count": 38
        }
      ]
    },
    {
      "cell_type": "code",
      "source": [
        "covid_df.to_excel('doh_covid_clean.xlsx')"
      ],
      "metadata": {
        "id": "dlBglUEPFk-j"
      },
      "execution_count": null,
      "outputs": []
    },
    {
      "cell_type": "code",
      "source": [],
      "metadata": {
        "id": "0mgzF-iYz47d"
      },
      "execution_count": null,
      "outputs": []
    }
  ],
  "metadata": {
    "colab": {
      "provenance": []
    },
    "kernelspec": {
      "display_name": "Python 3",
      "name": "python3"
    },
    "language_info": {
      "name": "python"
    }
  },
  "nbformat": 4,
  "nbformat_minor": 0
}